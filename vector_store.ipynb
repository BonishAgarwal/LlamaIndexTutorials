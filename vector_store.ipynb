{
 "cells": [
  {
   "cell_type": "code",
   "execution_count": 1,
   "metadata": {},
   "outputs": [
    {
     "name": "stdout",
     "output_type": "stream",
     "text": [
      "Requirement already satisfied: llama-index-vector-stores-chroma in ./llama-venv/lib/python3.10/site-packages (0.1.4)\n",
      "Requirement already satisfied: chromadb<0.5.0,>=0.4.22 in ./llama-venv/lib/python3.10/site-packages (from llama-index-vector-stores-chroma) (0.4.23)\n",
      "Requirement already satisfied: llama-index-core<0.11.0,>=0.10.1 in ./llama-venv/lib/python3.10/site-packages (from llama-index-vector-stores-chroma) (0.10.12)\n",
      "Requirement already satisfied: tokenizers<0.16.0,>=0.15.1 in ./llama-venv/lib/python3.10/site-packages (from llama-index-vector-stores-chroma) (0.15.2)\n",
      "Requirement already satisfied: onnxruntime<2.0.0,>=1.17.0 in ./llama-venv/lib/python3.10/site-packages (from llama-index-vector-stores-chroma) (1.17.0)\n",
      "Requirement already satisfied: fastapi>=0.95.2 in ./llama-venv/lib/python3.10/site-packages (from chromadb<0.5.0,>=0.4.22->llama-index-vector-stores-chroma) (0.109.2)\n",
      "Requirement already satisfied: pydantic>=1.9 in ./llama-venv/lib/python3.10/site-packages (from chromadb<0.5.0,>=0.4.22->llama-index-vector-stores-chroma) (2.6.1)\n",
      "Requirement already satisfied: opentelemetry-sdk>=1.2.0 in ./llama-venv/lib/python3.10/site-packages (from chromadb<0.5.0,>=0.4.22->llama-index-vector-stores-chroma) (1.22.0)\n",
      "Requirement already satisfied: grpcio>=1.58.0 in ./llama-venv/lib/python3.10/site-packages (from chromadb<0.5.0,>=0.4.22->llama-index-vector-stores-chroma) (1.62.0)\n",
      "Requirement already satisfied: opentelemetry-instrumentation-fastapi>=0.41b0 in ./llama-venv/lib/python3.10/site-packages (from chromadb<0.5.0,>=0.4.22->llama-index-vector-stores-chroma) (0.43b0)\n",
      "Requirement already satisfied: build>=1.0.3 in ./llama-venv/lib/python3.10/site-packages (from chromadb<0.5.0,>=0.4.22->llama-index-vector-stores-chroma) (1.0.3)\n",
      "Requirement already satisfied: uvicorn[standard]>=0.18.3 in ./llama-venv/lib/python3.10/site-packages (from chromadb<0.5.0,>=0.4.22->llama-index-vector-stores-chroma) (0.27.1)\n",
      "Requirement already satisfied: typing-extensions>=4.5.0 in ./llama-venv/lib/python3.10/site-packages (from chromadb<0.5.0,>=0.4.22->llama-index-vector-stores-chroma) (4.9.0)\n",
      "Requirement already satisfied: overrides>=7.3.1 in ./llama-venv/lib/python3.10/site-packages (from chromadb<0.5.0,>=0.4.22->llama-index-vector-stores-chroma) (7.7.0)\n",
      "Requirement already satisfied: typer>=0.9.0 in ./llama-venv/lib/python3.10/site-packages (from chromadb<0.5.0,>=0.4.22->llama-index-vector-stores-chroma) (0.9.0)\n",
      "Requirement already satisfied: kubernetes>=28.1.0 in ./llama-venv/lib/python3.10/site-packages (from chromadb<0.5.0,>=0.4.22->llama-index-vector-stores-chroma) (29.0.0)\n",
      "Requirement already satisfied: pypika>=0.48.9 in ./llama-venv/lib/python3.10/site-packages (from chromadb<0.5.0,>=0.4.22->llama-index-vector-stores-chroma) (0.48.9)\n",
      "Requirement already satisfied: posthog>=2.4.0 in ./llama-venv/lib/python3.10/site-packages (from chromadb<0.5.0,>=0.4.22->llama-index-vector-stores-chroma) (3.4.2)\n",
      "Requirement already satisfied: requests>=2.28 in ./llama-venv/lib/python3.10/site-packages (from chromadb<0.5.0,>=0.4.22->llama-index-vector-stores-chroma) (2.31.0)\n",
      "Requirement already satisfied: opentelemetry-exporter-otlp-proto-grpc>=1.2.0 in ./llama-venv/lib/python3.10/site-packages (from chromadb<0.5.0,>=0.4.22->llama-index-vector-stores-chroma) (1.22.0)\n",
      "Requirement already satisfied: mmh3>=4.0.1 in ./llama-venv/lib/python3.10/site-packages (from chromadb<0.5.0,>=0.4.22->llama-index-vector-stores-chroma) (4.1.0)\n",
      "Requirement already satisfied: orjson>=3.9.12 in ./llama-venv/lib/python3.10/site-packages (from chromadb<0.5.0,>=0.4.22->llama-index-vector-stores-chroma) (3.9.14)\n",
      "Requirement already satisfied: pulsar-client>=3.1.0 in ./llama-venv/lib/python3.10/site-packages (from chromadb<0.5.0,>=0.4.22->llama-index-vector-stores-chroma) (3.4.0)\n",
      "Requirement already satisfied: bcrypt>=4.0.1 in ./llama-venv/lib/python3.10/site-packages (from chromadb<0.5.0,>=0.4.22->llama-index-vector-stores-chroma) (4.1.2)\n",
      "Requirement already satisfied: importlib-resources in ./llama-venv/lib/python3.10/site-packages (from chromadb<0.5.0,>=0.4.22->llama-index-vector-stores-chroma) (6.1.1)\n",
      "Requirement already satisfied: tqdm>=4.65.0 in ./llama-venv/lib/python3.10/site-packages (from chromadb<0.5.0,>=0.4.22->llama-index-vector-stores-chroma) (4.66.2)\n",
      "Requirement already satisfied: PyYAML>=6.0.0 in ./llama-venv/lib/python3.10/site-packages (from chromadb<0.5.0,>=0.4.22->llama-index-vector-stores-chroma) (6.0.1)\n",
      "Requirement already satisfied: opentelemetry-api>=1.2.0 in ./llama-venv/lib/python3.10/site-packages (from chromadb<0.5.0,>=0.4.22->llama-index-vector-stores-chroma) (1.22.0)\n",
      "Requirement already satisfied: tenacity>=8.2.3 in ./llama-venv/lib/python3.10/site-packages (from chromadb<0.5.0,>=0.4.22->llama-index-vector-stores-chroma) (8.2.3)\n",
      "Requirement already satisfied: chroma-hnswlib==0.7.3 in ./llama-venv/lib/python3.10/site-packages (from chromadb<0.5.0,>=0.4.22->llama-index-vector-stores-chroma) (0.7.3)\n",
      "Requirement already satisfied: numpy>=1.22.5 in ./llama-venv/lib/python3.10/site-packages (from chromadb<0.5.0,>=0.4.22->llama-index-vector-stores-chroma) (1.26.4)\n",
      "Requirement already satisfied: httpx in ./llama-venv/lib/python3.10/site-packages (from llama-index-core<0.11.0,>=0.10.1->llama-index-vector-stores-chroma) (0.27.0)\n",
      "Requirement already satisfied: SQLAlchemy[asyncio]>=1.4.49 in ./llama-venv/lib/python3.10/site-packages (from llama-index-core<0.11.0,>=0.10.1->llama-index-vector-stores-chroma) (2.0.27)\n",
      "Requirement already satisfied: dirtyjson<2.0.0,>=1.0.8 in ./llama-venv/lib/python3.10/site-packages (from llama-index-core<0.11.0,>=0.10.1->llama-index-vector-stores-chroma) (1.0.8)\n",
      "Requirement already satisfied: nltk<4.0.0,>=3.8.1 in ./llama-venv/lib/python3.10/site-packages (from llama-index-core<0.11.0,>=0.10.1->llama-index-vector-stores-chroma) (3.8.1)\n",
      "Requirement already satisfied: pandas in ./llama-venv/lib/python3.10/site-packages (from llama-index-core<0.11.0,>=0.10.1->llama-index-vector-stores-chroma) (2.2.0)\n",
      "Requirement already satisfied: pillow>=9.0.0 in ./llama-venv/lib/python3.10/site-packages (from llama-index-core<0.11.0,>=0.10.1->llama-index-vector-stores-chroma) (10.2.0)\n",
      "Requirement already satisfied: typing-inspect>=0.8.0 in ./llama-venv/lib/python3.10/site-packages (from llama-index-core<0.11.0,>=0.10.1->llama-index-vector-stores-chroma) (0.9.0)\n",
      "Requirement already satisfied: llamaindex-py-client<0.2.0,>=0.1.13 in ./llama-venv/lib/python3.10/site-packages (from llama-index-core<0.11.0,>=0.10.1->llama-index-vector-stores-chroma) (0.1.13)\n",
      "Requirement already satisfied: nest-asyncio<2.0.0,>=1.5.8 in ./llama-venv/lib/python3.10/site-packages (from llama-index-core<0.11.0,>=0.10.1->llama-index-vector-stores-chroma) (1.6.0)\n",
      "Requirement already satisfied: aiohttp<4.0.0,>=3.8.6 in ./llama-venv/lib/python3.10/site-packages (from llama-index-core<0.11.0,>=0.10.1->llama-index-vector-stores-chroma) (3.9.3)\n",
      "Requirement already satisfied: tiktoken>=0.3.3 in ./llama-venv/lib/python3.10/site-packages (from llama-index-core<0.11.0,>=0.10.1->llama-index-vector-stores-chroma) (0.6.0)\n",
      "Requirement already satisfied: openai>=1.1.0 in ./llama-venv/lib/python3.10/site-packages (from llama-index-core<0.11.0,>=0.10.1->llama-index-vector-stores-chroma) (1.12.0)\n",
      "Requirement already satisfied: dataclasses-json in ./llama-venv/lib/python3.10/site-packages (from llama-index-core<0.11.0,>=0.10.1->llama-index-vector-stores-chroma) (0.6.4)\n",
      "Requirement already satisfied: deprecated>=1.2.9.3 in ./llama-venv/lib/python3.10/site-packages (from llama-index-core<0.11.0,>=0.10.1->llama-index-vector-stores-chroma) (1.2.14)\n",
      "Requirement already satisfied: fsspec>=2023.5.0 in ./llama-venv/lib/python3.10/site-packages (from llama-index-core<0.11.0,>=0.10.1->llama-index-vector-stores-chroma) (2024.2.0)\n",
      "Requirement already satisfied: networkx>=3.0 in ./llama-venv/lib/python3.10/site-packages (from llama-index-core<0.11.0,>=0.10.1->llama-index-vector-stores-chroma) (3.2.1)\n",
      "Requirement already satisfied: coloredlogs in ./llama-venv/lib/python3.10/site-packages (from onnxruntime<2.0.0,>=1.17.0->llama-index-vector-stores-chroma) (15.0.1)\n",
      "Requirement already satisfied: sympy in ./llama-venv/lib/python3.10/site-packages (from onnxruntime<2.0.0,>=1.17.0->llama-index-vector-stores-chroma) (1.12)\n",
      "Requirement already satisfied: protobuf in ./llama-venv/lib/python3.10/site-packages (from onnxruntime<2.0.0,>=1.17.0->llama-index-vector-stores-chroma) (4.25.3)\n",
      "Requirement already satisfied: flatbuffers in ./llama-venv/lib/python3.10/site-packages (from onnxruntime<2.0.0,>=1.17.0->llama-index-vector-stores-chroma) (23.5.26)\n",
      "Requirement already satisfied: packaging in ./llama-venv/lib/python3.10/site-packages (from onnxruntime<2.0.0,>=1.17.0->llama-index-vector-stores-chroma) (23.2)\n",
      "Requirement already satisfied: huggingface_hub<1.0,>=0.16.4 in ./llama-venv/lib/python3.10/site-packages (from tokenizers<0.16.0,>=0.15.1->llama-index-vector-stores-chroma) (0.20.3)\n",
      "Requirement already satisfied: multidict<7.0,>=4.5 in ./llama-venv/lib/python3.10/site-packages (from aiohttp<4.0.0,>=3.8.6->llama-index-core<0.11.0,>=0.10.1->llama-index-vector-stores-chroma) (6.0.5)\n",
      "Requirement already satisfied: attrs>=17.3.0 in ./llama-venv/lib/python3.10/site-packages (from aiohttp<4.0.0,>=3.8.6->llama-index-core<0.11.0,>=0.10.1->llama-index-vector-stores-chroma) (23.2.0)\n",
      "Requirement already satisfied: frozenlist>=1.1.1 in ./llama-venv/lib/python3.10/site-packages (from aiohttp<4.0.0,>=3.8.6->llama-index-core<0.11.0,>=0.10.1->llama-index-vector-stores-chroma) (1.4.1)\n",
      "Requirement already satisfied: aiosignal>=1.1.2 in ./llama-venv/lib/python3.10/site-packages (from aiohttp<4.0.0,>=3.8.6->llama-index-core<0.11.0,>=0.10.1->llama-index-vector-stores-chroma) (1.3.1)\n",
      "Requirement already satisfied: async-timeout<5.0,>=4.0 in ./llama-venv/lib/python3.10/site-packages (from aiohttp<4.0.0,>=3.8.6->llama-index-core<0.11.0,>=0.10.1->llama-index-vector-stores-chroma) (4.0.3)\n",
      "Requirement already satisfied: yarl<2.0,>=1.0 in ./llama-venv/lib/python3.10/site-packages (from aiohttp<4.0.0,>=3.8.6->llama-index-core<0.11.0,>=0.10.1->llama-index-vector-stores-chroma) (1.9.4)\n",
      "Requirement already satisfied: tomli>=1.1.0 in ./llama-venv/lib/python3.10/site-packages (from build>=1.0.3->chromadb<0.5.0,>=0.4.22->llama-index-vector-stores-chroma) (2.0.1)\n",
      "Requirement already satisfied: pyproject_hooks in ./llama-venv/lib/python3.10/site-packages (from build>=1.0.3->chromadb<0.5.0,>=0.4.22->llama-index-vector-stores-chroma) (1.0.0)\n",
      "Requirement already satisfied: wrapt<2,>=1.10 in ./llama-venv/lib/python3.10/site-packages (from deprecated>=1.2.9.3->llama-index-core<0.11.0,>=0.10.1->llama-index-vector-stores-chroma) (1.16.0)\n",
      "Requirement already satisfied: starlette<0.37.0,>=0.36.3 in ./llama-venv/lib/python3.10/site-packages (from fastapi>=0.95.2->chromadb<0.5.0,>=0.4.22->llama-index-vector-stores-chroma) (0.36.3)\n",
      "Requirement already satisfied: filelock in ./llama-venv/lib/python3.10/site-packages (from huggingface_hub<1.0,>=0.16.4->tokenizers<0.16.0,>=0.15.1->llama-index-vector-stores-chroma) (3.13.1)\n",
      "Requirement already satisfied: urllib3>=1.24.2 in ./llama-venv/lib/python3.10/site-packages (from kubernetes>=28.1.0->chromadb<0.5.0,>=0.4.22->llama-index-vector-stores-chroma) (2.2.1)\n",
      "Requirement already satisfied: certifi>=14.05.14 in ./llama-venv/lib/python3.10/site-packages (from kubernetes>=28.1.0->chromadb<0.5.0,>=0.4.22->llama-index-vector-stores-chroma) (2024.2.2)\n",
      "Requirement already satisfied: six>=1.9.0 in ./llama-venv/lib/python3.10/site-packages (from kubernetes>=28.1.0->chromadb<0.5.0,>=0.4.22->llama-index-vector-stores-chroma) (1.16.0)\n",
      "Requirement already satisfied: python-dateutil>=2.5.3 in ./llama-venv/lib/python3.10/site-packages (from kubernetes>=28.1.0->chromadb<0.5.0,>=0.4.22->llama-index-vector-stores-chroma) (2.8.2)\n",
      "Requirement already satisfied: oauthlib>=3.2.2 in ./llama-venv/lib/python3.10/site-packages (from kubernetes>=28.1.0->chromadb<0.5.0,>=0.4.22->llama-index-vector-stores-chroma) (3.2.2)\n",
      "Requirement already satisfied: requests-oauthlib in ./llama-venv/lib/python3.10/site-packages (from kubernetes>=28.1.0->chromadb<0.5.0,>=0.4.22->llama-index-vector-stores-chroma) (1.3.1)\n",
      "Requirement already satisfied: google-auth>=1.0.1 in ./llama-venv/lib/python3.10/site-packages (from kubernetes>=28.1.0->chromadb<0.5.0,>=0.4.22->llama-index-vector-stores-chroma) (2.28.1)\n",
      "Requirement already satisfied: websocket-client!=0.40.0,!=0.41.*,!=0.42.*,>=0.32.0 in ./llama-venv/lib/python3.10/site-packages (from kubernetes>=28.1.0->chromadb<0.5.0,>=0.4.22->llama-index-vector-stores-chroma) (1.7.0)\n",
      "Requirement already satisfied: anyio in ./llama-venv/lib/python3.10/site-packages (from httpx->llama-index-core<0.11.0,>=0.10.1->llama-index-vector-stores-chroma) (4.3.0)\n",
      "Requirement already satisfied: idna in ./llama-venv/lib/python3.10/site-packages (from httpx->llama-index-core<0.11.0,>=0.10.1->llama-index-vector-stores-chroma) (3.6)\n",
      "Requirement already satisfied: sniffio in ./llama-venv/lib/python3.10/site-packages (from httpx->llama-index-core<0.11.0,>=0.10.1->llama-index-vector-stores-chroma) (1.3.0)\n",
      "Requirement already satisfied: httpcore==1.* in ./llama-venv/lib/python3.10/site-packages (from httpx->llama-index-core<0.11.0,>=0.10.1->llama-index-vector-stores-chroma) (1.0.4)\n",
      "Requirement already satisfied: h11<0.15,>=0.13 in ./llama-venv/lib/python3.10/site-packages (from httpcore==1.*->httpx->llama-index-core<0.11.0,>=0.10.1->llama-index-vector-stores-chroma) (0.14.0)\n",
      "Requirement already satisfied: click in ./llama-venv/lib/python3.10/site-packages (from nltk<4.0.0,>=3.8.1->llama-index-core<0.11.0,>=0.10.1->llama-index-vector-stores-chroma) (8.1.7)\n",
      "Requirement already satisfied: regex>=2021.8.3 in ./llama-venv/lib/python3.10/site-packages (from nltk<4.0.0,>=3.8.1->llama-index-core<0.11.0,>=0.10.1->llama-index-vector-stores-chroma) (2023.12.25)\n",
      "Requirement already satisfied: joblib in ./llama-venv/lib/python3.10/site-packages (from nltk<4.0.0,>=3.8.1->llama-index-core<0.11.0,>=0.10.1->llama-index-vector-stores-chroma) (1.3.2)\n",
      "Requirement already satisfied: distro<2,>=1.7.0 in ./llama-venv/lib/python3.10/site-packages (from openai>=1.1.0->llama-index-core<0.11.0,>=0.10.1->llama-index-vector-stores-chroma) (1.9.0)\n",
      "Requirement already satisfied: importlib-metadata<7.0,>=6.0 in ./llama-venv/lib/python3.10/site-packages (from opentelemetry-api>=1.2.0->chromadb<0.5.0,>=0.4.22->llama-index-vector-stores-chroma) (6.11.0)\n",
      "Requirement already satisfied: opentelemetry-exporter-otlp-proto-common==1.22.0 in ./llama-venv/lib/python3.10/site-packages (from opentelemetry-exporter-otlp-proto-grpc>=1.2.0->chromadb<0.5.0,>=0.4.22->llama-index-vector-stores-chroma) (1.22.0)\n",
      "Requirement already satisfied: googleapis-common-protos~=1.52 in ./llama-venv/lib/python3.10/site-packages (from opentelemetry-exporter-otlp-proto-grpc>=1.2.0->chromadb<0.5.0,>=0.4.22->llama-index-vector-stores-chroma) (1.62.0)\n",
      "Requirement already satisfied: opentelemetry-proto==1.22.0 in ./llama-venv/lib/python3.10/site-packages (from opentelemetry-exporter-otlp-proto-grpc>=1.2.0->chromadb<0.5.0,>=0.4.22->llama-index-vector-stores-chroma) (1.22.0)\n",
      "Requirement already satisfied: backoff<3.0.0,>=1.10.0 in ./llama-venv/lib/python3.10/site-packages (from opentelemetry-exporter-otlp-proto-grpc>=1.2.0->chromadb<0.5.0,>=0.4.22->llama-index-vector-stores-chroma) (2.2.1)\n",
      "Requirement already satisfied: opentelemetry-instrumentation==0.43b0 in ./llama-venv/lib/python3.10/site-packages (from opentelemetry-instrumentation-fastapi>=0.41b0->chromadb<0.5.0,>=0.4.22->llama-index-vector-stores-chroma) (0.43b0)\n",
      "Requirement already satisfied: opentelemetry-semantic-conventions==0.43b0 in ./llama-venv/lib/python3.10/site-packages (from opentelemetry-instrumentation-fastapi>=0.41b0->chromadb<0.5.0,>=0.4.22->llama-index-vector-stores-chroma) (0.43b0)\n",
      "Requirement already satisfied: opentelemetry-util-http==0.43b0 in ./llama-venv/lib/python3.10/site-packages (from opentelemetry-instrumentation-fastapi>=0.41b0->chromadb<0.5.0,>=0.4.22->llama-index-vector-stores-chroma) (0.43b0)\n",
      "Requirement already satisfied: opentelemetry-instrumentation-asgi==0.43b0 in ./llama-venv/lib/python3.10/site-packages (from opentelemetry-instrumentation-fastapi>=0.41b0->chromadb<0.5.0,>=0.4.22->llama-index-vector-stores-chroma) (0.43b0)\n",
      "Requirement already satisfied: setuptools>=16.0 in ./llama-venv/lib/python3.10/site-packages (from opentelemetry-instrumentation==0.43b0->opentelemetry-instrumentation-fastapi>=0.41b0->chromadb<0.5.0,>=0.4.22->llama-index-vector-stores-chroma) (65.5.0)\n",
      "Requirement already satisfied: asgiref~=3.0 in ./llama-venv/lib/python3.10/site-packages (from opentelemetry-instrumentation-asgi==0.43b0->opentelemetry-instrumentation-fastapi>=0.41b0->chromadb<0.5.0,>=0.4.22->llama-index-vector-stores-chroma) (3.7.2)\n",
      "Requirement already satisfied: monotonic>=1.5 in ./llama-venv/lib/python3.10/site-packages (from posthog>=2.4.0->chromadb<0.5.0,>=0.4.22->llama-index-vector-stores-chroma) (1.6)\n",
      "Requirement already satisfied: annotated-types>=0.4.0 in ./llama-venv/lib/python3.10/site-packages (from pydantic>=1.9->chromadb<0.5.0,>=0.4.22->llama-index-vector-stores-chroma) (0.6.0)\n",
      "Requirement already satisfied: pydantic-core==2.16.2 in ./llama-venv/lib/python3.10/site-packages (from pydantic>=1.9->chromadb<0.5.0,>=0.4.22->llama-index-vector-stores-chroma) (2.16.2)\n",
      "Requirement already satisfied: charset-normalizer<4,>=2 in ./llama-venv/lib/python3.10/site-packages (from requests>=2.28->chromadb<0.5.0,>=0.4.22->llama-index-vector-stores-chroma) (3.3.2)\n",
      "Requirement already satisfied: greenlet!=0.4.17 in ./llama-venv/lib/python3.10/site-packages (from SQLAlchemy[asyncio]>=1.4.49->llama-index-core<0.11.0,>=0.10.1->llama-index-vector-stores-chroma) (3.0.3)\n",
      "Requirement already satisfied: mypy-extensions>=0.3.0 in ./llama-venv/lib/python3.10/site-packages (from typing-inspect>=0.8.0->llama-index-core<0.11.0,>=0.10.1->llama-index-vector-stores-chroma) (1.0.0)\n",
      "Requirement already satisfied: python-dotenv>=0.13 in ./llama-venv/lib/python3.10/site-packages (from uvicorn[standard]>=0.18.3->chromadb<0.5.0,>=0.4.22->llama-index-vector-stores-chroma) (1.0.1)\n",
      "Requirement already satisfied: uvloop!=0.15.0,!=0.15.1,>=0.14.0 in ./llama-venv/lib/python3.10/site-packages (from uvicorn[standard]>=0.18.3->chromadb<0.5.0,>=0.4.22->llama-index-vector-stores-chroma) (0.19.0)\n",
      "Requirement already satisfied: websockets>=10.4 in ./llama-venv/lib/python3.10/site-packages (from uvicorn[standard]>=0.18.3->chromadb<0.5.0,>=0.4.22->llama-index-vector-stores-chroma) (12.0)\n",
      "Requirement already satisfied: watchfiles>=0.13 in ./llama-venv/lib/python3.10/site-packages (from uvicorn[standard]>=0.18.3->chromadb<0.5.0,>=0.4.22->llama-index-vector-stores-chroma) (0.21.0)\n",
      "Requirement already satisfied: httptools>=0.5.0 in ./llama-venv/lib/python3.10/site-packages (from uvicorn[standard]>=0.18.3->chromadb<0.5.0,>=0.4.22->llama-index-vector-stores-chroma) (0.6.1)\n",
      "Requirement already satisfied: humanfriendly>=9.1 in ./llama-venv/lib/python3.10/site-packages (from coloredlogs->onnxruntime<2.0.0,>=1.17.0->llama-index-vector-stores-chroma) (10.0)\n",
      "Requirement already satisfied: marshmallow<4.0.0,>=3.18.0 in ./llama-venv/lib/python3.10/site-packages (from dataclasses-json->llama-index-core<0.11.0,>=0.10.1->llama-index-vector-stores-chroma) (3.20.2)\n",
      "Requirement already satisfied: tzdata>=2022.7 in ./llama-venv/lib/python3.10/site-packages (from pandas->llama-index-core<0.11.0,>=0.10.1->llama-index-vector-stores-chroma) (2024.1)\n",
      "Requirement already satisfied: pytz>=2020.1 in ./llama-venv/lib/python3.10/site-packages (from pandas->llama-index-core<0.11.0,>=0.10.1->llama-index-vector-stores-chroma) (2024.1)\n",
      "Requirement already satisfied: mpmath>=0.19 in ./llama-venv/lib/python3.10/site-packages (from sympy->onnxruntime<2.0.0,>=1.17.0->llama-index-vector-stores-chroma) (1.3.0)\n",
      "Requirement already satisfied: exceptiongroup>=1.0.2 in ./llama-venv/lib/python3.10/site-packages (from anyio->httpx->llama-index-core<0.11.0,>=0.10.1->llama-index-vector-stores-chroma) (1.2.0)\n",
      "Requirement already satisfied: rsa<5,>=3.1.4 in ./llama-venv/lib/python3.10/site-packages (from google-auth>=1.0.1->kubernetes>=28.1.0->chromadb<0.5.0,>=0.4.22->llama-index-vector-stores-chroma) (4.9)\n",
      "Requirement already satisfied: pyasn1-modules>=0.2.1 in ./llama-venv/lib/python3.10/site-packages (from google-auth>=1.0.1->kubernetes>=28.1.0->chromadb<0.5.0,>=0.4.22->llama-index-vector-stores-chroma) (0.3.0)\n",
      "Requirement already satisfied: cachetools<6.0,>=2.0.0 in ./llama-venv/lib/python3.10/site-packages (from google-auth>=1.0.1->kubernetes>=28.1.0->chromadb<0.5.0,>=0.4.22->llama-index-vector-stores-chroma) (5.3.2)\n",
      "Requirement already satisfied: zipp>=0.5 in ./llama-venv/lib/python3.10/site-packages (from importlib-metadata<7.0,>=6.0->opentelemetry-api>=1.2.0->chromadb<0.5.0,>=0.4.22->llama-index-vector-stores-chroma) (3.17.0)\n",
      "Requirement already satisfied: pyasn1<0.6.0,>=0.4.6 in ./llama-venv/lib/python3.10/site-packages (from pyasn1-modules>=0.2.1->google-auth>=1.0.1->kubernetes>=28.1.0->chromadb<0.5.0,>=0.4.22->llama-index-vector-stores-chroma) (0.5.1)\n",
      "\n",
      "\u001b[1m[\u001b[0m\u001b[34;49mnotice\u001b[0m\u001b[1;39;49m]\u001b[0m\u001b[39;49m A new release of pip available: \u001b[0m\u001b[31;49m22.3.1\u001b[0m\u001b[39;49m -> \u001b[0m\u001b[32;49m24.0\u001b[0m\n",
      "\u001b[1m[\u001b[0m\u001b[34;49mnotice\u001b[0m\u001b[1;39;49m]\u001b[0m\u001b[39;49m To update, run: \u001b[0m\u001b[32;49mpip install --upgrade pip\u001b[0m\n",
      "Note: you may need to restart the kernel to use updated packages.\n"
     ]
    }
   ],
   "source": [
    "%pip install llama-index-vector-stores-chroma"
   ]
  },
  {
   "cell_type": "code",
   "execution_count": 2,
   "metadata": {},
   "outputs": [],
   "source": [
    "import logging\n",
    "import sys\n",
    "\n",
    "logging.basicConfig(stream=sys.stdout, level=logging.INFO)\n",
    "logging.getLogger().addHandler(logging.StreamHandler(stream=sys.stdout))"
   ]
  },
  {
   "cell_type": "code",
   "execution_count": 3,
   "metadata": {},
   "outputs": [
    {
     "name": "stderr",
     "output_type": "stream",
     "text": [
      "/Users/bonish.agarwal/Personal-Projects/Llama-index/llama-venv/lib/python3.10/site-packages/tqdm/auto.py:21: TqdmWarning: IProgress not found. Please update jupyter and ipywidgets. See https://ipywidgets.readthedocs.io/en/stable/user_install.html\n",
      "  from .autonotebook import tqdm as notebook_tqdm\n"
     ]
    }
   ],
   "source": [
    "from llama_index.llms.azure_openai import AzureOpenAI\n",
    "\n",
    "api_key = \"78d406f975874c20ac2298c6d83e2f7d\"\n",
    "azure_endpoint = \"https://nitoropenai.openai.azure.com/\"\n",
    "api_version = \"2022-12-01\"\n",
    "\n",
    "llm = AzureOpenAI(\n",
    "    model=\"text-davinci-003\",\n",
    "    deployment_name=\"text-davinci-003\",\n",
    "    api_key=api_key,\n",
    "    azure_endpoint=azure_endpoint,\n",
    "    api_version=api_version,\n",
    ")"
   ]
  },
  {
   "cell_type": "code",
   "execution_count": 4,
   "metadata": {},
   "outputs": [],
   "source": [
    "import chromadb"
   ]
  },
  {
   "cell_type": "code",
   "execution_count": 17,
   "metadata": {},
   "outputs": [],
   "source": [
    "chroma_client = chromadb.EphemeralClient()\n",
    "chroma_collection = chroma_client.create_collection(\"chromdb\")"
   ]
  },
  {
   "cell_type": "code",
   "execution_count": 18,
   "metadata": {},
   "outputs": [],
   "source": [
    "from llama_index.core import VectorStoreIndex\n",
    "from llama_index.vector_stores.chroma import ChromaVectorStore\n",
    "from IPython.display import Markdown, display"
   ]
  },
  {
   "cell_type": "code",
   "execution_count": 19,
   "metadata": {},
   "outputs": [],
   "source": [
    "from llama_index.core.schema import TextNode\n",
    "\n",
    "nodes = [\n",
    "    TextNode(\n",
    "        text=\"The Shawshank Redemption\",\n",
    "        metadata={\n",
    "            \"author\": \"Stephen King\",\n",
    "            \"theme\": \"Friendship\",\n",
    "            \"year\": 1994,\n",
    "        },\n",
    "    ),\n",
    "    TextNode(\n",
    "        text=\"The Godfather\",\n",
    "        metadata={\n",
    "            \"director\": \"Francis Ford Coppola\",\n",
    "            \"theme\": \"Mafia\",\n",
    "            \"year\": 1972,\n",
    "        },\n",
    "    ),\n",
    "    TextNode(\n",
    "        text=\"Inception\",\n",
    "        metadata={\n",
    "            \"director\": \"Christopher Nolan\",\n",
    "            \"theme\": \"Fiction\",\n",
    "            \"year\": 2010,\n",
    "        },\n",
    "    ),\n",
    "    TextNode(\n",
    "        text=\"To Kill a Mockingbird\",\n",
    "        metadata={\n",
    "            \"author\": \"Harper Lee\",\n",
    "            \"theme\": \"Mafia\",\n",
    "            \"year\": 1960,\n",
    "        },\n",
    "    ),\n",
    "    TextNode(\n",
    "        text=\"1984\",\n",
    "        metadata={\n",
    "            \"author\": \"George Orwell\",\n",
    "            \"theme\": \"Totalitarianism\",\n",
    "            \"year\": 1949,\n",
    "        },\n",
    "    ),\n",
    "    TextNode(\n",
    "        text=\"The Great Gatsby\",\n",
    "        metadata={\n",
    "            \"author\": \"F. Scott Fitzgerald\",\n",
    "            \"theme\": \"The American Dream\",\n",
    "            \"year\": 1925,\n",
    "        },\n",
    "    ),\n",
    "    TextNode(\n",
    "        text=\"Harry Potter and the Sorcerer's Stone\",\n",
    "        metadata={\n",
    "            \"author\": \"J.K. Rowling\",\n",
    "            \"theme\": \"Fiction\",\n",
    "            \"year\": 1997,\n",
    "        },\n",
    "    ),\n",
    "]"
   ]
  },
  {
   "cell_type": "code",
   "execution_count": 24,
   "metadata": {},
   "outputs": [],
   "source": [
    "from llama_index.core import StorageContext\n",
    "\n",
    "\n",
    "vector_store = ChromaVectorStore(\n",
    "                                chroma_collection=chroma_collection\n",
    "                            )\n",
    "\n",
    "storage_context = StorageContext.from_defaults(\n",
    "                                            vector_store=vector_store\n",
    "                                        )"
   ]
  },
  {
   "cell_type": "code",
   "execution_count": 21,
   "metadata": {},
   "outputs": [],
   "source": [
    "index = VectorStoreIndex(nodes, storage_context=storage_context, embed_model='local')"
   ]
  },
  {
   "cell_type": "code",
   "execution_count": 27,
   "metadata": {},
   "outputs": [
    {
     "data": {
      "text/plain": [
       "StorageContext(docstore=<llama_index.core.storage.docstore.simple_docstore.SimpleDocumentStore object at 0x28e35ba60>, index_store=<llama_index.core.storage.index_store.simple_index_store.SimpleIndexStore object at 0x2eb380250>, vector_stores={'default': ChromaVectorStore(stores_text=True, is_embedding_query=True, flat_metadata=True, collection_name=None, host=None, port=None, ssl=False, headers=None, persist_dir=None, collection_kwargs={}), 'image': <llama_index.core.vector_stores.simple.SimpleVectorStore object at 0x2eb380040>}, graph_store=<llama_index.core.graph_stores.simple.SimpleGraphStore object at 0x2eb380190>)"
      ]
     },
     "execution_count": 27,
     "metadata": {},
     "output_type": "execute_result"
    }
   ],
   "source": [
    "storage_context"
   ]
  },
  {
   "cell_type": "code",
   "execution_count": 28,
   "metadata": {},
   "outputs": [
    {
     "data": {
      "text/plain": [
       "ChromaVectorStore(stores_text=True, is_embedding_query=True, flat_metadata=True, collection_name=None, host=None, port=None, ssl=False, headers=None, persist_dir=None, collection_kwargs={})"
      ]
     },
     "execution_count": 28,
     "metadata": {},
     "output_type": "execute_result"
    }
   ],
   "source": [
    "vector_store"
   ]
  },
  {
   "cell_type": "code",
   "execution_count": 25,
   "metadata": {},
   "outputs": [],
   "source": [
    "index.storage_context.persist(persist_dir=\"./vector_store\")"
   ]
  },
  {
   "cell_type": "code",
   "execution_count": 26,
   "metadata": {},
   "outputs": [
    {
     "data": {
      "text/plain": [
       "[NodeWithScore(node=TextNode(id_='625b12df-0f40-4a0a-bd52-fcbf27470b2d', embedding=None, metadata={'director': 'Francis Ford Coppola', 'theme': 'Mafia', 'year': 1972}, excluded_embed_metadata_keys=[], excluded_llm_metadata_keys=[], relationships={}, text='The Godfather', start_char_idx=None, end_char_idx=None, text_template='{metadata_str}\\n\\n{content}', metadata_template='{key}: {value}', metadata_seperator='\\n'), score=0.6248947287593491),\n",
       " NodeWithScore(node=TextNode(id_='2599b7c7-91bd-4b73-9ae3-06fd130518d1', embedding=None, metadata={'author': 'Harper Lee', 'theme': 'Mafia', 'year': 1960}, excluded_embed_metadata_keys=[], excluded_llm_metadata_keys=[], relationships={}, text='To Kill a Mockingbird', start_char_idx=None, end_char_idx=None, text_template='{metadata_str}\\n\\n{content}', metadata_template='{key}: {value}', metadata_seperator='\\n'), score=0.6237865637900187)]"
      ]
     },
     "execution_count": 26,
     "metadata": {},
     "output_type": "execute_result"
    }
   ],
   "source": [
    "from llama_index.core.vector_stores import (\n",
    "    MetadataFilter,\n",
    "    MetadataFilters,\n",
    "    FilterOperator,\n",
    ")\n",
    "\n",
    "\n",
    "filters = MetadataFilters(\n",
    "    filters=[\n",
    "        MetadataFilter(key=\"theme\", operator=FilterOperator.EQ, value=\"Mafia\"),\n",
    "    ]\n",
    ")\n",
    "\n",
    "retriever = index.as_retriever(filters=filters)\n",
    "retriever.retrieve(\"What is inception about?\")"
   ]
  }
 ],
 "metadata": {
  "kernelspec": {
   "display_name": "llama-venv",
   "language": "python",
   "name": "python3"
  },
  "language_info": {
   "codemirror_mode": {
    "name": "ipython",
    "version": 3
   },
   "file_extension": ".py",
   "mimetype": "text/x-python",
   "name": "python",
   "nbconvert_exporter": "python",
   "pygments_lexer": "ipython3",
   "version": "3.10.9"
  }
 },
 "nbformat": 4,
 "nbformat_minor": 2
}
